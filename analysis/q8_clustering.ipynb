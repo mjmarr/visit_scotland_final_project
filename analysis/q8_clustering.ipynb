{
 "cells": [
  {
   "cell_type": "markdown",
   "id": "bc3b2524",
   "metadata": {},
   "source": [
    "# Question 8 part 2\n",
    "## Using Clustering Techniques to label based on spending habits"
   ]
  },
  {
   "cell_type": "markdown",
   "id": "3fa14cbc",
   "metadata": {},
   "source": [
    "Some exploritory analysis was done on this new dataset and picked the top five countries that have spent the most in scotland from `2013-2019` see [here..](../data/extra_cleaning.ipynb) for more details into the exact methods these countries we're selected.\n",
    "\n",
    "Top Five:\n",
    "- `USA` `Germany` `Australia` `France` `Canada`"
   ]
  },
  {
   "cell_type": "markdown",
   "id": "e28734a1",
   "metadata": {},
   "source": [
    "## Load Cleaned Data & Libraries"
   ]
  },
  {
   "cell_type": "code",
   "execution_count": 1,
   "id": "58e58bdd",
   "metadata": {},
   "outputs": [],
   "source": [
    "# Libraries\n",
    "import pandas as pd\n",
    "import seaborn as sns\n",
    "import matplotlib.pyplot as plt\n",
    "import numpy as np\n",
    "\n",
    "#set plot sizes\n",
    "sns.set_context('poster', font_scale=0.4)\n",
    "plt.rcParams['figure.figsize'] = [5, 3]\n",
    "plt.rcParams['figure.dpi'] = 120\n",
    "plt.rcParams['font.size'] = 10\n",
    "\n",
    "# Cleaned Data\n",
    "usa = pd.read_csv('../data/clean_data/countries/usa.csv')\n",
    "germany = pd.read_csv('../data/clean_data/countries/germany.csv')\n",
    "australia = pd.read_csv('../data/clean_data/countries/australia.csv')\n",
    "france = pd.read_csv('../data/clean_data/countries/france.csv')\n",
    "canada = pd.read_csv('../data/clean_data/countries/canada.csv')"
   ]
  },
  {
   "cell_type": "markdown",
   "id": "be8423f0",
   "metadata": {},
   "source": [
    "### K-Means Clustering for Counties that have spent the most while visiting scotland"
   ]
  },
  {
   "cell_type": "markdown",
   "id": "d000b833",
   "metadata": {},
   "source": [
    "..."
   ]
  }
 ],
 "metadata": {
  "kernelspec": {
   "display_name": "Python 3 (ipykernel)",
   "language": "python",
   "name": "python3"
  },
  "language_info": {
   "codemirror_mode": {
    "name": "ipython",
    "version": 3
   },
   "file_extension": ".py",
   "mimetype": "text/x-python",
   "name": "python",
   "nbconvert_exporter": "python",
   "pygments_lexer": "ipython3",
   "version": "3.9.7"
  },
  "varInspector": {
   "cols": {
    "lenName": 16,
    "lenType": 16,
    "lenVar": 40
   },
   "kernels_config": {
    "python": {
     "delete_cmd_postfix": "",
     "delete_cmd_prefix": "del ",
     "library": "var_list.py",
     "varRefreshCmd": "print(var_dic_list())"
    },
    "r": {
     "delete_cmd_postfix": ") ",
     "delete_cmd_prefix": "rm(",
     "library": "var_list.r",
     "varRefreshCmd": "cat(var_dic_list()) "
    }
   },
   "types_to_exclude": [
    "module",
    "function",
    "builtin_function_or_method",
    "instance",
    "_Feature"
   ],
   "window_display": false
  }
 },
 "nbformat": 4,
 "nbformat_minor": 5
}
